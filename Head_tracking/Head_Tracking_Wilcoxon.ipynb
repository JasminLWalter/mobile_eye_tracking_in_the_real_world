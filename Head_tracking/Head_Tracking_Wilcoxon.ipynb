{
 "cells": [
  {
   "cell_type": "code",
   "execution_count": 39,
   "id": "d5155486-eedb-432c-964b-850bccdcb79e",
   "metadata": {},
   "outputs": [],
   "source": [
    "import pandas as pd\n",
    "import numpy as np\n",
    "import matplotlib.pyplot as plt\n",
    "import seaborn as sns  #\n",
    "from scipy.stats import spearmanr\n",
    "from scipy.stats import wilcoxon"
   ]
  },
  {
   "cell_type": "markdown",
   "id": "a102b6a8-73e3-4eb1-8ee7-8e116ff961ff",
   "metadata": {
    "jp-MarkdownHeadingCollapsed": true
   },
   "source": [
    "# Pointing Task: Correlation between error and confidence "
   ]
  },
  {
   "cell_type": "code",
   "execution_count": 19,
   "id": "6f148992-86e2-4d07-86f7-50913415bfa9",
   "metadata": {},
   "outputs": [
    {
     "data": {
      "text/html": [
       "<div>\n",
       "<style scoped>\n",
       "    .dataframe tbody tr th:only-of-type {\n",
       "        vertical-align: middle;\n",
       "    }\n",
       "\n",
       "    .dataframe tbody tr th {\n",
       "        vertical-align: top;\n",
       "    }\n",
       "\n",
       "    .dataframe thead th {\n",
       "        text-align: right;\n",
       "    }\n",
       "</style>\n",
       "<table border=\"1\" class=\"dataframe\">\n",
       "  <thead>\n",
       "    <tr style=\"text-align: right;\">\n",
       "      <th></th>\n",
       "      <th>Target 1</th>\n",
       "      <th>Target 2</th>\n",
       "      <th>Target 3</th>\n",
       "      <th>Target 4</th>\n",
       "      <th>Target 5</th>\n",
       "      <th>Target 6</th>\n",
       "      <th>Target 7</th>\n",
       "      <th>Target 8</th>\n",
       "    </tr>\n",
       "  </thead>\n",
       "  <tbody>\n",
       "    <tr>\n",
       "      <th>starting point</th>\n",
       "      <td>176.327482</td>\n",
       "      <td>34.962345</td>\n",
       "      <td>14.310965</td>\n",
       "      <td>102.971672</td>\n",
       "      <td>3.104019</td>\n",
       "      <td>29.839506</td>\n",
       "      <td>2.132032</td>\n",
       "      <td>26.106436</td>\n",
       "    </tr>\n",
       "    <tr>\n",
       "      <th>Loc 4</th>\n",
       "      <td>57.374405</td>\n",
       "      <td>43.848091</td>\n",
       "      <td>15.221251</td>\n",
       "      <td>NaN</td>\n",
       "      <td>11.046887</td>\n",
       "      <td>34.164634</td>\n",
       "      <td>2.314694</td>\n",
       "      <td>24.004383</td>\n",
       "    </tr>\n",
       "    <tr>\n",
       "      <th>Loc 6</th>\n",
       "      <td>78.118001</td>\n",
       "      <td>76.526460</td>\n",
       "      <td>19.546503</td>\n",
       "      <td>23.929666</td>\n",
       "      <td>64.886826</td>\n",
       "      <td>NaN</td>\n",
       "      <td>17.228787</td>\n",
       "      <td>108.222581</td>\n",
       "    </tr>\n",
       "    <tr>\n",
       "      <th>Loc 7</th>\n",
       "      <td>30.082320</td>\n",
       "      <td>2.129428</td>\n",
       "      <td>25.438803</td>\n",
       "      <td>17.010529</td>\n",
       "      <td>14.309440</td>\n",
       "      <td>21.387745</td>\n",
       "      <td>NaN</td>\n",
       "      <td>20.477035</td>\n",
       "    </tr>\n",
       "    <tr>\n",
       "      <th>Loc 5</th>\n",
       "      <td>51.011902</td>\n",
       "      <td>23.467791</td>\n",
       "      <td>2.676414</td>\n",
       "      <td>22.708108</td>\n",
       "      <td>NaN</td>\n",
       "      <td>48.142959</td>\n",
       "      <td>5.832637</td>\n",
       "      <td>1.816345</td>\n",
       "    </tr>\n",
       "    <tr>\n",
       "      <th>End start point</th>\n",
       "      <td>84.327482</td>\n",
       "      <td>40.962345</td>\n",
       "      <td>10.310965</td>\n",
       "      <td>20.028328</td>\n",
       "      <td>12.104019</td>\n",
       "      <td>34.839506</td>\n",
       "      <td>0.132032</td>\n",
       "      <td>0.893564</td>\n",
       "    </tr>\n",
       "  </tbody>\n",
       "</table>\n",
       "</div>"
      ],
      "text/plain": [
       "                   Target 1   Target 2   Target 3    Target 4   Target 5  \\\n",
       "starting point   176.327482  34.962345  14.310965  102.971672   3.104019   \n",
       "Loc 4             57.374405  43.848091  15.221251         NaN  11.046887   \n",
       "Loc 6             78.118001  76.526460  19.546503   23.929666  64.886826   \n",
       "Loc 7             30.082320   2.129428  25.438803   17.010529  14.309440   \n",
       "Loc 5             51.011902  23.467791   2.676414   22.708108        NaN   \n",
       "End start point   84.327482  40.962345  10.310965   20.028328  12.104019   \n",
       "\n",
       "                  Target 6   Target 7    Target 8  \n",
       "starting point   29.839506   2.132032   26.106436  \n",
       "Loc 4            34.164634   2.314694   24.004383  \n",
       "Loc 6                  NaN  17.228787  108.222581  \n",
       "Loc 7            21.387745        NaN   20.477035  \n",
       "Loc 5            48.142959   5.832637    1.816345  \n",
       "End start point  34.839506   0.132032    0.893564  "
      ]
     },
     "execution_count": 19,
     "metadata": {},
     "output_type": "execute_result"
    }
   ],
   "source": [
    "errors = pd.read_csv('task_error_mean.csv', index_col=0) \n",
    "errors = errors.iloc[:, :-3]\n",
    "errors_mean = errors.loc['mean']\n",
    "errors = errors.iloc[:-1, :]\n",
    "errors"
   ]
  },
  {
   "cell_type": "code",
   "execution_count": 18,
   "id": "e1303a1d-c9ad-4636-90e1-577652bf3132",
   "metadata": {},
   "outputs": [
    {
     "data": {
      "text/plain": [
       "<Axes: xlabel='mean', ylabel='Count'>"
      ]
     },
     "execution_count": 18,
     "metadata": {},
     "output_type": "execute_result"
    },
    {
     "data": {
      "image/png": "[encoded data removed]",
      "text/plain": [
       "<Figure size 640x480 with 1 Axes>"
      ]
     },
     "metadata": {},
     "output_type": "display_data"
    }
   ],
   "source": [
    "sns.histplot(errors_mean)"
   ]
  },
  {
   "cell_type": "code",
   "execution_count": 23,
   "id": "b3cd3131-626a-4df2-8778-59d5d33f11d5",
   "metadata": {},
   "outputs": [],
   "source": [
    "con_4 = np.mean([0,10,10,10,10])\n",
    "con_6 = np.mean([4,4,7,7,7])\n",
    "confidences = [0,1,10,con_4,9,con_6,7,2]"
   ]
  },
  {
   "cell_type": "code",
   "execution_count": 24,
   "id": "d70e518e-398d-4d08-b1c6-5483e7946d52",
   "metadata": {},
   "outputs": [
    {
     "name": "stdout",
     "output_type": "stream",
     "text": [
      "Spearman rho = -0.619, p = 0.102\n"
     ]
    }
   ],
   "source": [
    "# Spearman correlation\n",
    "rho, p = spearmanr(errors_mean, confidences)\n",
    "print(f\"Spearman rho = {rho:.3f}, p = {p:.3f}\")"
   ]
  },
  {
   "cell_type": "markdown",
   "id": "005841b0-1cd0-42b7-8ed7-033ca941620f",
   "metadata": {},
   "source": [
    "# Head Tracking "
   ]
  },
  {
   "cell_type": "code",
   "execution_count": 32,
   "id": "5848e762-82da-4e55-a16f-92601dc1af25",
   "metadata": {},
   "outputs": [
    {
     "data": {
      "text/plain": [
       "[-5.124082896273137,\n",
       " 8.918233148041438,\n",
       " -13.879337617947613,\n",
       " 0.5291623396692415,\n",
       " 4.84369217111788,\n",
       " 2.5143858576558955,\n",
       " -10.68378835623389,\n",
       " 0.5624582931188229,\n",
       " -9.618445367219351,\n",
       " -0.4416025349169672,\n",
       " -0.0511230858101043,\n",
       " nan,\n",
       " -2.860597189529244,\n",
       " -3.82095760670768,\n",
       " 16.318279773594526,\n",
       " nan,\n",
       " 8.743870996907845,\n",
       " nan,\n",
       " -7.881508769610093,\n",
       " 4.606926126006499,\n",
       " 16.678455441307904,\n",
       " nan,\n",
       " 4.289107513856397,\n",
       " nan,\n",
       " 4.827055116612087,\n",
       " nan]"
      ]
     },
     "execution_count": 32,
     "metadata": {},
     "output_type": "execute_result"
    }
   ],
   "source": [
    "errors = pd.read_csv('error_with_correct_IMU_mad.csv', index_col=0) \n",
    "errors = errors.iloc[:-6, :]\n",
    "ht_error = errors.diff_median_abs.tolist()\n",
    "ht_error"
   ]
  },
  {
   "cell_type": "code",
   "execution_count": 35,
   "id": "4b975123-5d67-4178-9a6b-85a920f1a767",
   "metadata": {},
   "outputs": [
    {
     "data": {
      "text/plain": [
       "0.5458103163940322"
      ]
     },
     "execution_count": 35,
     "metadata": {},
     "output_type": "execute_result"
    }
   ],
   "source": [
    "np.nanmedian(ht_error)"
   ]
  },
  {
   "cell_type": "code",
   "execution_count": 37,
   "id": "baae5579-0b90-4560-8a0f-1214b38237bc",
   "metadata": {},
   "outputs": [
    {
     "name": "stdout",
     "output_type": "stream",
     "text": [
      "Fix IQR: 8.98 (-4.15–4.83)\n"
     ]
    }
   ],
   "source": [
    "q25, q75 = np.nanpercentile(ht_error, [25, 75])\n",
    "print(f\"Fix IQR: {q75 - q25:.2f} ({q25:.2f}–{q75:.2f})\")"
   ]
  },
  {
   "cell_type": "code",
   "execution_count": 50,
   "id": "351affc1-d10d-47fd-ab48-3b495cac32f7",
   "metadata": {},
   "outputs": [
    {
     "data": {
      "text/html": [
       "<div>\n",
       "<style scoped>\n",
       "    .dataframe tbody tr th:only-of-type {\n",
       "        vertical-align: middle;\n",
       "    }\n",
       "\n",
       "    .dataframe tbody tr th {\n",
       "        vertical-align: top;\n",
       "    }\n",
       "\n",
       "    .dataframe thead th {\n",
       "        text-align: right;\n",
       "    }\n",
       "</style>\n",
       "<table border=\"1\" class=\"dataframe\">\n",
       "  <thead>\n",
       "    <tr style=\"text-align: right;\">\n",
       "      <th>phase</th>\n",
       "      <th>base_id</th>\n",
       "      <th>beg</th>\n",
       "      <th>end</th>\n",
       "    </tr>\n",
       "  </thead>\n",
       "  <tbody>\n",
       "    <tr>\n",
       "      <th>0</th>\n",
       "      <td>Expl_1_ET_1</td>\n",
       "      <td>-5.124083</td>\n",
       "      <td>8.918233</td>\n",
       "    </tr>\n",
       "    <tr>\n",
       "      <th>1</th>\n",
       "      <td>Expl_1_ET_2</td>\n",
       "      <td>-13.879338</td>\n",
       "      <td>0.529162</td>\n",
       "    </tr>\n",
       "    <tr>\n",
       "      <th>2</th>\n",
       "      <td>Expl_1_ET_3</td>\n",
       "      <td>4.843692</td>\n",
       "      <td>2.514386</td>\n",
       "    </tr>\n",
       "    <tr>\n",
       "      <th>3</th>\n",
       "      <td>Expl_2_ET_1</td>\n",
       "      <td>-10.683788</td>\n",
       "      <td>0.562458</td>\n",
       "    </tr>\n",
       "    <tr>\n",
       "      <th>4</th>\n",
       "      <td>Expl_2_ET_2</td>\n",
       "      <td>-9.618445</td>\n",
       "      <td>-0.441603</td>\n",
       "    </tr>\n",
       "    <tr>\n",
       "      <th>6</th>\n",
       "      <td>Expl_3_ET_1</td>\n",
       "      <td>-2.860597</td>\n",
       "      <td>-3.820958</td>\n",
       "    </tr>\n",
       "    <tr>\n",
       "      <th>9</th>\n",
       "      <td>Expl_4_ET_1</td>\n",
       "      <td>-7.881509</td>\n",
       "      <td>4.606926</td>\n",
       "    </tr>\n",
       "  </tbody>\n",
       "</table>\n",
       "</div>"
      ],
      "text/plain": [
       "phase      base_id        beg       end\n",
       "0      Expl_1_ET_1  -5.124083  8.918233\n",
       "1      Expl_1_ET_2 -13.879338  0.529162\n",
       "2      Expl_1_ET_3   4.843692  2.514386\n",
       "3      Expl_2_ET_1 -10.683788  0.562458\n",
       "4      Expl_2_ET_2  -9.618445 -0.441603\n",
       "6      Expl_3_ET_1  -2.860597 -3.820958\n",
       "9      Expl_4_ET_1  -7.881509  4.606926"
      ]
     },
     "metadata": {},
     "output_type": "display_data"
    },
    {
     "name": "stdout",
     "output_type": "stream",
     "text": [
      "Wilcoxon signed-rank test: W = 3.000, p = 0.078\n"
     ]
    }
   ],
   "source": [
    "# Clean and match trial pairs\n",
    "errors['base_id'] = errors['Id'].str.replace('_beg', '', regex=False).str.replace('_end', '', regex=False)\n",
    "errors['phase'] = errors['Id'].str.extract(r'_(beg|end)$')\n",
    "# Pivot the data to align beg and end in one row\n",
    "pivoted = errors.pivot(index='base_id', columns='phase', values='diff_median_abs').reset_index()\n",
    "\n",
    "# Drop any rows where either beg or end is missing\n",
    "paired = pivoted.dropna(subset=['beg', 'end'])\n",
    "display(paired)\n",
    "\n",
    "# Run Wilcoxon signed-rank test\n",
    "stat, p = wilcoxon(paired['beg'], paired['end'])\n",
    "print(f\"Wilcoxon signed-rank test: W = {stat:.3f}, p = {p:.3f}\")\n"
   ]
  },
  {
   "cell_type": "code",
   "execution_count": null,
   "id": "d6326c21-d672-4c7d-afd6-320a02043253",
   "metadata": {},
   "outputs": [],
   "source": []
  }
 ],
 "metadata": {
  "kernelspec": {
   "display_name": "Python 3",
   "language": "python",
   "name": "python3"
  },
  "language_info": {
   "codemirror_mode": {
    "name": "ipython",
    "version": 3
   },
   "file_extension": ".py",
   "mimetype": "text/x-python",
   "name": "python",
   "nbconvert_exporter": "python",
   "pygments_lexer": "ipython3",
   "version": "3.11.8"
  }
 },
 "nbformat": 4,
 "nbformat_minor": 5
}
